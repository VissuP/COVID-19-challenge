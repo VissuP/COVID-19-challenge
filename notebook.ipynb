{
  "nbformat": 4,
  "nbformat_minor": 0,
  "metadata": {
    "language_info": {
      "name": "python",
      "codemirror_mode": {
        "name": "ipython",
        "version": 3
      },
      "version": "3.8.1-final"
    },
    "orig_nbformat": 2,
    "file_extension": ".py",
    "mimetype": "text/x-python",
    "name": "python",
    "npconvert_exporter": "python",
    "pygments_lexer": "ipython3",
    "version": 3,
    "kernelspec": {
      "name": "python3",
      "display_name": "Python 3"
    },
    "colab": {
      "name": "notebook.ipynb",
      "provenance": []
    }
  },
  "cells": [
    {
      "cell_type": "code",
      "metadata": {
        "id": "eqjXkJoiOMUt",
        "colab_type": "code",
        "colab": {}
      },
      "source": [
        "from pathlib import Path\n",
        "import json\n",
        "from pprint import pprint as pp\n",
        "\n",
        "import numpy as np\n",
        "import pandas as pd\n",
        "from joblib import Parallel, delayed"
      ],
      "execution_count": 0,
      "outputs": []
    },
    {
      "cell_type": "code",
      "metadata": {
        "id": "kGTeMmfKOMUx",
        "colab_type": "code",
        "colab": {},
        "outputId": "4928430a-1a4f-4dce-ecb2-fcc174b6faf3"
      },
      "source": [
        "json_files = list(Path().cwd().glob('data/**/*.json'))\n",
        "\n",
        "def load_paper(f):\n",
        "    with f.open() as fp:\n",
        "        d = json.load(fp)\n",
        "        try:\n",
        "            title = d['metadata']['title']\n",
        "        except:\n",
        "            title = None\n",
        "        return title\n",
        "\n",
        "# %time titles = [load_paper(f) for f in json_files]\n",
        "%time titles = Parallel(n_jobs=32)(delayed(load_paper)(f) for f in json_files)\n",
        "len([t for t in titles if t is None])"
      ],
      "execution_count": 0,
      "outputs": [
        {
          "output_type": "stream",
          "text": [
            "CPU times: user 3.52 s, sys: 213 ms, total: 3.73 s\n",
            "Wall time: 4.09 s\n"
          ],
          "name": "stdout"
        },
        {
          "output_type": "execute_result",
          "data": {
            "text/plain": [
              "1"
            ]
          },
          "metadata": {
            "tags": []
          },
          "execution_count": 48
        }
      ]
    },
    {
      "cell_type": "code",
      "metadata": {
        "tags": [
          "outputPrepend",
          "outputPrepend",
          "outputPrepend",
          "outputPrepend",
          "outputPrepend",
          "outputPrepend",
          "outputPrepend",
          "outputPrepend",
          "outputPrepend",
          "outputPrepend",
          "outputPrepend",
          "outputPrepend",
          "outputPrepend",
          "outputPrepend",
          "outputPrepend",
          "outputPrepend",
          "outputPrepend",
          "outputPrepend",
          "outputPrepend",
          "outputPrepend"
        ],
        "id": "hDRzrN22OMU0",
        "colab_type": "code",
        "colab": {},
        "outputId": "f708de1d-a2d4-490b-d7de-64d1903309c4"
      },
      "source": [
        "len(titles)"
      ],
      "execution_count": 0,
      "outputs": [
        {
          "output_type": "execute_result",
          "data": {
            "text/plain": [
              "29316"
            ]
          },
          "metadata": {
            "tags": []
          },
          "execution_count": 49
        }
      ]
    },
    {
      "cell_type": "code",
      "metadata": {
        "id": "XCfVIBQXOMU3",
        "colab_type": "code",
        "colab": {}
      },
      "source": [
        ""
      ],
      "execution_count": 0,
      "outputs": []
    },
    {
      "cell_type": "markdown",
      "metadata": {
        "id": "T2VsIB04ORxV",
        "colab_type": "text"
      },
      "source": [
        "Test change"
      ]
    },
    {
      "cell_type": "code",
      "metadata": {
        "id": "o7UtPnIwOUZZ",
        "colab_type": "code",
        "colab": {}
      },
      "source": [
        ""
      ],
      "execution_count": 0,
      "outputs": []
    }
  ]
}