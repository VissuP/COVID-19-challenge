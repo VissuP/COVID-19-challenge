{
 "cells": [
  {
   "cell_type": "code",
   "execution_count": 24,
   "metadata": {},
   "outputs": [
    {
     "data": {
      "text/plain": [
       "False"
      ]
     },
     "execution_count": 24,
     "metadata": {},
     "output_type": "execute_result"
    }
   ],
   "source": [
    "# This will allow you to choose the kaggle.json file you downloaded for upload\n",
    "try:\n",
    "    from google.colab import files\n",
    "    files.upload()\n",
    "    IN_COLAB = True\n",
    "except:\n",
    "    IN_COLAB = False\n",
    "IN_COLAB"
   ]
  },
  {
   "cell_type": "markdown",
   "metadata": {},
   "source": [
    "## How to tell how many cores you have"
   ]
  },
  {
   "cell_type": "code",
   "execution_count": 1,
   "metadata": {},
   "outputs": [
    {
     "name": "stdout",
     "output_type": "stream",
     "text": [
      "# of CPU's in the sytems is: 8\n"
     ]
    }
   ],
   "source": [
    "# How to tell how many cores you have \n",
    "import multiprocessing\n",
    "\n",
    "numCores = multiprocessing.cpu_count()\n",
    "print (\"# of CPU's in the sytems is: \"  + str(numCores))"
   ]
  },
  {
   "cell_type": "markdown",
   "metadata": {},
   "source": [
    "## Fastest way to unzip files\n",
    "Prefer python zipfile package over !unzip"
   ]
  },
  {
   "cell_type": "code",
   "execution_count": 3,
   "metadata": {},
   "outputs": [
    {
     "name": "stdout",
     "output_type": "stream",
     "text": [
      "/home/steve/projects/COVID-19-challenge\n",
      "rm: cannot remove 'data': No such file or directory\n",
      "CPU times: user 1.29 s, sys: 50 ms, total: 1.34 s\n",
      "Wall time: 52.1 s\n",
      "CPU times: user 35.4 s, sys: 7.51 s, total: 42.9 s\n",
      "Wall time: 50.7 s\n"
     ]
    }
   ],
   "source": [
    "# Fastest way to unzip files\n",
    "# Shoud I use !unzip or python library zipfile.ZipFile.extractall() ???\n",
    "# How can I test which is faster?\n",
    "import zipfile\n",
    "\n",
    "!cd /home/steve/projects/COVID-19-challenge\n",
    "!pwd\n",
    "!rm -r data\n",
    "%time !unzip -q CORD-19-research-challenge.zip -d data\n",
    "!rm -r data\n",
    "%time with zipfile.ZipFile('CORD-19-research-challenge.zip', 'r') as file:    file.extractall(path='data')"
   ]
  },
  {
   "cell_type": "markdown",
   "metadata": {},
   "source": [
    "### Faster way to ensure a package is installed and if not install it than:\n",
    "Prefer \\_\\_import__ with try/except"
   ]
  },
  {
   "cell_type": "code",
   "execution_count": 22,
   "metadata": {},
   "outputs": [
    {
     "name": "stdout",
     "output_type": "stream",
     "text": [
      "CPU times: user 16 µs, sys: 0 ns, total: 16 µs\n",
      "Wall time: 22.4 µs\n",
      "Requirement already satisfied: kaggle in /home/steve/anaconda3/lib/python3.7/site-packages (1.5.6)\n",
      "Requirement already satisfied: urllib3<1.25,>=1.21.1 in /home/steve/anaconda3/lib/python3.7/site-packages (from kaggle) (1.24.3)\n",
      "Requirement already satisfied: six>=1.10 in /home/steve/anaconda3/lib/python3.7/site-packages (from kaggle) (1.14.0)\n",
      "Requirement already satisfied: python-slugify in /home/steve/anaconda3/lib/python3.7/site-packages (from kaggle) (4.0.0)\n",
      "Requirement already satisfied: python-dateutil in /home/steve/anaconda3/lib/python3.7/site-packages (from kaggle) (2.8.1)\n",
      "Requirement already satisfied: requests in /home/steve/anaconda3/lib/python3.7/site-packages (from kaggle) (2.22.0)\n",
      "Requirement already satisfied: certifi in /home/steve/anaconda3/lib/python3.7/site-packages (from kaggle) (2019.11.28)\n",
      "Requirement already satisfied: tqdm in /home/steve/anaconda3/lib/python3.7/site-packages (from kaggle) (4.42.1)\n",
      "Requirement already satisfied: text-unidecode>=1.3 in /home/steve/anaconda3/lib/python3.7/site-packages (from python-slugify->kaggle) (1.3)\n",
      "Requirement already satisfied: chardet<3.1.0,>=3.0.2 in /home/steve/anaconda3/lib/python3.7/site-packages (from requests->kaggle) (3.0.4)\n",
      "Requirement already satisfied: idna<2.9,>=2.5 in /home/steve/anaconda3/lib/python3.7/site-packages (from requests->kaggle) (2.8)\n",
      "CPU times: user 39.9 ms, sys: 17.4 ms, total: 57.3 ms\n",
      "Wall time: 1.64 s\n"
     ]
    }
   ],
   "source": [
    "# Was trying to determine if there was a faster way to ensure a package is installed and if not install it than:\n",
    "#   Than: !pip install kaggle\n",
    "# Realized this is really a setup task and should be in a separate notebook or python library, \n",
    "#    so the main notebook focuses on the code doing \"THE WORK\"\n",
    "\n",
    "# In the function defined below is faster\n",
    "import pip\n",
    "\n",
    "def import_or_install(package):\n",
    "    try:\n",
    "        __import__(package)\n",
    "    except ImportError:\n",
    "        pip.main(['install', package])\n",
    "%time import_or_install(\"kaggle\")\n",
    "\n",
    "%time !pip install kaggle\n",
    "        \n",
    "# TO Read/Study contents: https://jakevdp.github.io/PythonDataScienceHandbook/01.07-timing-and-profiling.html"
   ]
  },
  {
   "cell_type": "markdown",
   "metadata": {},
   "source": [
    "# Keyboard shortcuts\n",
    " - Shift-Enter Execute cell and move to next cell\n",
    " - Ctrl-Enter - Execute cell and move to next cell\n",
    " - esc m - Change cell mode to Markdown\n",
    " - esc y - Change cell mode to Code"
   ]
  },
  {
   "cell_type": "code",
   "execution_count": null,
   "metadata": {},
   "outputs": [],
   "source": []
  }
 ],
 "metadata": {
  "kernelspec": {
   "display_name": "Python 3",
   "language": "python",
   "name": "python3"
  },
  "language_info": {
   "codemirror_mode": {
    "name": "ipython",
    "version": 3
   },
   "file_extension": ".py",
   "mimetype": "text/x-python",
   "name": "python",
   "nbconvert_exporter": "python",
   "pygments_lexer": "ipython3",
   "version": "3.7.6"
  }
 },
 "nbformat": 4,
 "nbformat_minor": 4
}
