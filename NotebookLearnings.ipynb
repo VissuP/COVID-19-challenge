{
 "cells": [
  {
   "cell_type": "code",
   "execution_count": 5,
   "metadata": {},
   "outputs": [
    {
     "name": "stdout",
     "output_type": "stream",
     "text": [
      "# of CPU's in the sytems is: 8\n"
     ]
    }
   ],
   "source": [
    "# How to tell how many cores you have \n",
    "import multiprocessing\n",
    "\n",
    "numCores = multiprocessing.cpu_count()\n",
    "print (\"# of CPU's in the sytems is: \"  + str(numCores))"
   ]
  },
  {
   "cell_type": "code",
   "execution_count": null,
   "metadata": {},
   "outputs": [
    {
     "name": "stdout",
     "output_type": "stream",
     "text": [
      "/home/steve/projects/COVID-19-challenge\n",
      "CPU times: user 1.95 s, sys: 301 ms, total: 2.25 s\n",
      "Wall time: 1min 13s\n"
     ]
    }
   ],
   "source": [
    "# Fastest way to unzip files\n",
    "# Shoud I use !unzip or python library zipfile.ZipFile.extractall() ???\n",
    "# How can I test which is faster?\n",
    "\n",
    "!cd /home/steve/projects/COVID-19-challenge\n",
    "!pwd\n",
    "!rm -r data\n",
    "%time !unzip -q CORD-19-research-challenge.zip -d data\n",
    "!rm -r data\n",
    "%time with zipfile.ZipFile('CORD-19-research-challenge.zip', 'r') as file:    file.extractall(path='data')"
   ]
  },
  {
   "cell_type": "code",
   "execution_count": 1,
   "metadata": {},
   "outputs": [
    {
     "name": "stdout",
     "output_type": "stream",
     "text": [
      "CPU times: user 2.16 s, sys: 394 ms, total: 2.56 s\n",
      "Wall time: 1min 18s\n"
     ]
    }
   ],
   "source": [
    "%time !unzip -q CORD-19-research-challenge.zip -d data"
   ]
  },
  {
   "cell_type": "code",
   "execution_count": 2,
   "metadata": {},
   "outputs": [],
   "source": [
    "import zipfile"
   ]
  },
  {
   "cell_type": "code",
   "execution_count": 14,
   "metadata": {},
   "outputs": [
    {
     "name": "stdout",
     "output_type": "stream",
     "text": [
      "CPU times: user 47.3 s, sys: 11.7 s, total: 59 s\n",
      "Wall time: 1min 14s\n"
     ]
    }
   ],
   "source": [
    "%time with zipfile.ZipFile('CORD-19-research-challenge.zip', 'r') as file:    file.extractall(path='data')"
   ]
  },
  {
   "cell_type": "code",
   "execution_count": 15,
   "metadata": {},
   "outputs": [
    {
     "name": "stdout",
     "output_type": "stream",
     "text": [
      "/home/steve/projects/COVID-19-challenge\n"
     ]
    }
   ],
   "source": [
    "!pwd"
   ]
  },
  {
   "cell_type": "code",
   "execution_count": null,
   "metadata": {},
   "outputs": [],
   "source": []
  }
 ],
 "metadata": {
  "kernelspec": {
   "display_name": "Python 3",
   "language": "python",
   "name": "python3"
  },
  "language_info": {
   "codemirror_mode": {
    "name": "ipython",
    "version": 3
   },
   "file_extension": ".py",
   "mimetype": "text/x-python",
   "name": "python",
   "nbconvert_exporter": "python",
   "pygments_lexer": "ipython3",
   "version": "3.7.6"
  }
 },
 "nbformat": 4,
 "nbformat_minor": 4
}
